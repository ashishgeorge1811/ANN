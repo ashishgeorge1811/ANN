{
 "cells": [
  {
   "cell_type": "code",
   "execution_count": 1,
   "metadata": {},
   "outputs": [],
   "source": [
    "import numpy as np\n",
    "import pandas as pd\n",
    "from pandas import Series,DataFrame\n",
    "import matplotlib.pyplot as plt\n"
   ]
  },
  {
   "cell_type": "code",
   "execution_count": 33,
   "metadata": {},
   "outputs": [],
   "source": [
    "import warnings\n",
    "warnings.filterwarnings('ignore')"
   ]
  },
  {
   "cell_type": "code",
   "execution_count": 3,
   "metadata": {},
   "outputs": [],
   "source": [
    "dataset =pd.read_csv('C:\\\\Users\\\\ashish\\\\Desktop\\\\deep\\\\data\\\\Churn_Modelling.csv')"
   ]
  },
  {
   "cell_type": "code",
   "execution_count": 4,
   "metadata": {},
   "outputs": [
    {
     "data": {
      "text/html": [
       "<div>\n",
       "<style scoped>\n",
       "    .dataframe tbody tr th:only-of-type {\n",
       "        vertical-align: middle;\n",
       "    }\n",
       "\n",
       "    .dataframe tbody tr th {\n",
       "        vertical-align: top;\n",
       "    }\n",
       "\n",
       "    .dataframe thead th {\n",
       "        text-align: right;\n",
       "    }\n",
       "</style>\n",
       "<table border=\"1\" class=\"dataframe\">\n",
       "  <thead>\n",
       "    <tr style=\"text-align: right;\">\n",
       "      <th></th>\n",
       "      <th>RowNumber</th>\n",
       "      <th>CustomerId</th>\n",
       "      <th>Surname</th>\n",
       "      <th>CreditScore</th>\n",
       "      <th>Geography</th>\n",
       "      <th>Gender</th>\n",
       "      <th>Age</th>\n",
       "      <th>Tenure</th>\n",
       "      <th>Balance</th>\n",
       "      <th>NumOfProducts</th>\n",
       "      <th>HasCrCard</th>\n",
       "      <th>IsActiveMember</th>\n",
       "      <th>EstimatedSalary</th>\n",
       "      <th>Exited</th>\n",
       "    </tr>\n",
       "  </thead>\n",
       "  <tbody>\n",
       "    <tr>\n",
       "      <th>0</th>\n",
       "      <td>1</td>\n",
       "      <td>15634602</td>\n",
       "      <td>Hargrave</td>\n",
       "      <td>619</td>\n",
       "      <td>France</td>\n",
       "      <td>Female</td>\n",
       "      <td>42</td>\n",
       "      <td>2</td>\n",
       "      <td>0.00</td>\n",
       "      <td>1</td>\n",
       "      <td>1</td>\n",
       "      <td>1</td>\n",
       "      <td>101348.88</td>\n",
       "      <td>1</td>\n",
       "    </tr>\n",
       "    <tr>\n",
       "      <th>1</th>\n",
       "      <td>2</td>\n",
       "      <td>15647311</td>\n",
       "      <td>Hill</td>\n",
       "      <td>608</td>\n",
       "      <td>Spain</td>\n",
       "      <td>Female</td>\n",
       "      <td>41</td>\n",
       "      <td>1</td>\n",
       "      <td>83807.86</td>\n",
       "      <td>1</td>\n",
       "      <td>0</td>\n",
       "      <td>1</td>\n",
       "      <td>112542.58</td>\n",
       "      <td>0</td>\n",
       "    </tr>\n",
       "    <tr>\n",
       "      <th>2</th>\n",
       "      <td>3</td>\n",
       "      <td>15619304</td>\n",
       "      <td>Onio</td>\n",
       "      <td>502</td>\n",
       "      <td>France</td>\n",
       "      <td>Female</td>\n",
       "      <td>42</td>\n",
       "      <td>8</td>\n",
       "      <td>159660.80</td>\n",
       "      <td>3</td>\n",
       "      <td>1</td>\n",
       "      <td>0</td>\n",
       "      <td>113931.57</td>\n",
       "      <td>1</td>\n",
       "    </tr>\n",
       "    <tr>\n",
       "      <th>3</th>\n",
       "      <td>4</td>\n",
       "      <td>15701354</td>\n",
       "      <td>Boni</td>\n",
       "      <td>699</td>\n",
       "      <td>France</td>\n",
       "      <td>Female</td>\n",
       "      <td>39</td>\n",
       "      <td>1</td>\n",
       "      <td>0.00</td>\n",
       "      <td>2</td>\n",
       "      <td>0</td>\n",
       "      <td>0</td>\n",
       "      <td>93826.63</td>\n",
       "      <td>0</td>\n",
       "    </tr>\n",
       "    <tr>\n",
       "      <th>4</th>\n",
       "      <td>5</td>\n",
       "      <td>15737888</td>\n",
       "      <td>Mitchell</td>\n",
       "      <td>850</td>\n",
       "      <td>Spain</td>\n",
       "      <td>Female</td>\n",
       "      <td>43</td>\n",
       "      <td>2</td>\n",
       "      <td>125510.82</td>\n",
       "      <td>1</td>\n",
       "      <td>1</td>\n",
       "      <td>1</td>\n",
       "      <td>79084.10</td>\n",
       "      <td>0</td>\n",
       "    </tr>\n",
       "  </tbody>\n",
       "</table>\n",
       "</div>"
      ],
      "text/plain": [
       "   RowNumber  CustomerId   Surname  CreditScore Geography  Gender  Age  \\\n",
       "0          1    15634602  Hargrave          619    France  Female   42   \n",
       "1          2    15647311      Hill          608     Spain  Female   41   \n",
       "2          3    15619304      Onio          502    France  Female   42   \n",
       "3          4    15701354      Boni          699    France  Female   39   \n",
       "4          5    15737888  Mitchell          850     Spain  Female   43   \n",
       "\n",
       "   Tenure    Balance  NumOfProducts  HasCrCard  IsActiveMember  \\\n",
       "0       2       0.00              1          1               1   \n",
       "1       1   83807.86              1          0               1   \n",
       "2       8  159660.80              3          1               0   \n",
       "3       1       0.00              2          0               0   \n",
       "4       2  125510.82              1          1               1   \n",
       "\n",
       "   EstimatedSalary  Exited  \n",
       "0        101348.88       1  \n",
       "1        112542.58       0  \n",
       "2        113931.57       1  \n",
       "3         93826.63       0  \n",
       "4         79084.10       0  "
      ]
     },
     "execution_count": 4,
     "metadata": {},
     "output_type": "execute_result"
    }
   ],
   "source": [
    "dataset.head()"
   ]
  },
  {
   "cell_type": "code",
   "execution_count": 5,
   "metadata": {},
   "outputs": [
    {
     "data": {
      "text/plain": [
       "RowNumber          0\n",
       "CustomerId         0\n",
       "Surname            0\n",
       "CreditScore        0\n",
       "Geography          0\n",
       "Gender             0\n",
       "Age                0\n",
       "Tenure             0\n",
       "Balance            0\n",
       "NumOfProducts      0\n",
       "HasCrCard          0\n",
       "IsActiveMember     0\n",
       "EstimatedSalary    0\n",
       "Exited             0\n",
       "dtype: int64"
      ]
     },
     "execution_count": 5,
     "metadata": {},
     "output_type": "execute_result"
    }
   ],
   "source": [
    "dataset.isnull().sum()"
   ]
  },
  {
   "cell_type": "code",
   "execution_count": 6,
   "metadata": {},
   "outputs": [
    {
     "data": {
      "text/html": [
       "<div>\n",
       "<style scoped>\n",
       "    .dataframe tbody tr th:only-of-type {\n",
       "        vertical-align: middle;\n",
       "    }\n",
       "\n",
       "    .dataframe tbody tr th {\n",
       "        vertical-align: top;\n",
       "    }\n",
       "\n",
       "    .dataframe thead th {\n",
       "        text-align: right;\n",
       "    }\n",
       "</style>\n",
       "<table border=\"1\" class=\"dataframe\">\n",
       "  <thead>\n",
       "    <tr style=\"text-align: right;\">\n",
       "      <th></th>\n",
       "      <th>CreditScore</th>\n",
       "      <th>Geography</th>\n",
       "      <th>Gender</th>\n",
       "      <th>Age</th>\n",
       "      <th>Tenure</th>\n",
       "      <th>Balance</th>\n",
       "      <th>NumOfProducts</th>\n",
       "      <th>HasCrCard</th>\n",
       "      <th>IsActiveMember</th>\n",
       "      <th>EstimatedSalary</th>\n",
       "    </tr>\n",
       "  </thead>\n",
       "  <tbody>\n",
       "    <tr>\n",
       "      <th>0</th>\n",
       "      <td>619</td>\n",
       "      <td>France</td>\n",
       "      <td>Female</td>\n",
       "      <td>42</td>\n",
       "      <td>2</td>\n",
       "      <td>0.00</td>\n",
       "      <td>1</td>\n",
       "      <td>1</td>\n",
       "      <td>1</td>\n",
       "      <td>101348.88</td>\n",
       "    </tr>\n",
       "    <tr>\n",
       "      <th>1</th>\n",
       "      <td>608</td>\n",
       "      <td>Spain</td>\n",
       "      <td>Female</td>\n",
       "      <td>41</td>\n",
       "      <td>1</td>\n",
       "      <td>83807.86</td>\n",
       "      <td>1</td>\n",
       "      <td>0</td>\n",
       "      <td>1</td>\n",
       "      <td>112542.58</td>\n",
       "    </tr>\n",
       "    <tr>\n",
       "      <th>2</th>\n",
       "      <td>502</td>\n",
       "      <td>France</td>\n",
       "      <td>Female</td>\n",
       "      <td>42</td>\n",
       "      <td>8</td>\n",
       "      <td>159660.80</td>\n",
       "      <td>3</td>\n",
       "      <td>1</td>\n",
       "      <td>0</td>\n",
       "      <td>113931.57</td>\n",
       "    </tr>\n",
       "    <tr>\n",
       "      <th>3</th>\n",
       "      <td>699</td>\n",
       "      <td>France</td>\n",
       "      <td>Female</td>\n",
       "      <td>39</td>\n",
       "      <td>1</td>\n",
       "      <td>0.00</td>\n",
       "      <td>2</td>\n",
       "      <td>0</td>\n",
       "      <td>0</td>\n",
       "      <td>93826.63</td>\n",
       "    </tr>\n",
       "    <tr>\n",
       "      <th>4</th>\n",
       "      <td>850</td>\n",
       "      <td>Spain</td>\n",
       "      <td>Female</td>\n",
       "      <td>43</td>\n",
       "      <td>2</td>\n",
       "      <td>125510.82</td>\n",
       "      <td>1</td>\n",
       "      <td>1</td>\n",
       "      <td>1</td>\n",
       "      <td>79084.10</td>\n",
       "    </tr>\n",
       "  </tbody>\n",
       "</table>\n",
       "</div>"
      ],
      "text/plain": [
       "   CreditScore Geography  Gender  Age  Tenure    Balance  NumOfProducts  \\\n",
       "0          619    France  Female   42       2       0.00              1   \n",
       "1          608     Spain  Female   41       1   83807.86              1   \n",
       "2          502    France  Female   42       8  159660.80              3   \n",
       "3          699    France  Female   39       1       0.00              2   \n",
       "4          850     Spain  Female   43       2  125510.82              1   \n",
       "\n",
       "   HasCrCard  IsActiveMember  EstimatedSalary  \n",
       "0          1               1        101348.88  \n",
       "1          0               1        112542.58  \n",
       "2          1               0        113931.57  \n",
       "3          0               0         93826.63  \n",
       "4          1               1         79084.10  "
      ]
     },
     "execution_count": 6,
     "metadata": {},
     "output_type": "execute_result"
    }
   ],
   "source": [
    "X =dataset.iloc[:,3:13]\n",
    "X.head()"
   ]
  },
  {
   "cell_type": "code",
   "execution_count": 7,
   "metadata": {},
   "outputs": [],
   "source": [
    "y= dataset.iloc[:,13]"
   ]
  },
  {
   "cell_type": "code",
   "execution_count": 8,
   "metadata": {},
   "outputs": [],
   "source": [
    "#creating one-hot-encoding for Geography and Gender"
   ]
  },
  {
   "cell_type": "code",
   "execution_count": 9,
   "metadata": {},
   "outputs": [],
   "source": [
    "geography= pd.get_dummies(X['Geography'],drop_first=True)\n",
    "gender =  pd.get_dummies(X['Gender'],drop_first=True)"
   ]
  },
  {
   "cell_type": "code",
   "execution_count": 10,
   "metadata": {},
   "outputs": [],
   "source": [
    "X =pd.concat([X,geography,gender],axis=1)"
   ]
  },
  {
   "cell_type": "code",
   "execution_count": 11,
   "metadata": {},
   "outputs": [
    {
     "data": {
      "text/html": [
       "<div>\n",
       "<style scoped>\n",
       "    .dataframe tbody tr th:only-of-type {\n",
       "        vertical-align: middle;\n",
       "    }\n",
       "\n",
       "    .dataframe tbody tr th {\n",
       "        vertical-align: top;\n",
       "    }\n",
       "\n",
       "    .dataframe thead th {\n",
       "        text-align: right;\n",
       "    }\n",
       "</style>\n",
       "<table border=\"1\" class=\"dataframe\">\n",
       "  <thead>\n",
       "    <tr style=\"text-align: right;\">\n",
       "      <th></th>\n",
       "      <th>CreditScore</th>\n",
       "      <th>Geography</th>\n",
       "      <th>Gender</th>\n",
       "      <th>Age</th>\n",
       "      <th>Tenure</th>\n",
       "      <th>Balance</th>\n",
       "      <th>NumOfProducts</th>\n",
       "      <th>HasCrCard</th>\n",
       "      <th>IsActiveMember</th>\n",
       "      <th>EstimatedSalary</th>\n",
       "      <th>Germany</th>\n",
       "      <th>Spain</th>\n",
       "      <th>Male</th>\n",
       "    </tr>\n",
       "  </thead>\n",
       "  <tbody>\n",
       "    <tr>\n",
       "      <th>0</th>\n",
       "      <td>619</td>\n",
       "      <td>France</td>\n",
       "      <td>Female</td>\n",
       "      <td>42</td>\n",
       "      <td>2</td>\n",
       "      <td>0.00</td>\n",
       "      <td>1</td>\n",
       "      <td>1</td>\n",
       "      <td>1</td>\n",
       "      <td>101348.88</td>\n",
       "      <td>0</td>\n",
       "      <td>0</td>\n",
       "      <td>0</td>\n",
       "    </tr>\n",
       "    <tr>\n",
       "      <th>1</th>\n",
       "      <td>608</td>\n",
       "      <td>Spain</td>\n",
       "      <td>Female</td>\n",
       "      <td>41</td>\n",
       "      <td>1</td>\n",
       "      <td>83807.86</td>\n",
       "      <td>1</td>\n",
       "      <td>0</td>\n",
       "      <td>1</td>\n",
       "      <td>112542.58</td>\n",
       "      <td>0</td>\n",
       "      <td>1</td>\n",
       "      <td>0</td>\n",
       "    </tr>\n",
       "    <tr>\n",
       "      <th>2</th>\n",
       "      <td>502</td>\n",
       "      <td>France</td>\n",
       "      <td>Female</td>\n",
       "      <td>42</td>\n",
       "      <td>8</td>\n",
       "      <td>159660.80</td>\n",
       "      <td>3</td>\n",
       "      <td>1</td>\n",
       "      <td>0</td>\n",
       "      <td>113931.57</td>\n",
       "      <td>0</td>\n",
       "      <td>0</td>\n",
       "      <td>0</td>\n",
       "    </tr>\n",
       "    <tr>\n",
       "      <th>3</th>\n",
       "      <td>699</td>\n",
       "      <td>France</td>\n",
       "      <td>Female</td>\n",
       "      <td>39</td>\n",
       "      <td>1</td>\n",
       "      <td>0.00</td>\n",
       "      <td>2</td>\n",
       "      <td>0</td>\n",
       "      <td>0</td>\n",
       "      <td>93826.63</td>\n",
       "      <td>0</td>\n",
       "      <td>0</td>\n",
       "      <td>0</td>\n",
       "    </tr>\n",
       "    <tr>\n",
       "      <th>4</th>\n",
       "      <td>850</td>\n",
       "      <td>Spain</td>\n",
       "      <td>Female</td>\n",
       "      <td>43</td>\n",
       "      <td>2</td>\n",
       "      <td>125510.82</td>\n",
       "      <td>1</td>\n",
       "      <td>1</td>\n",
       "      <td>1</td>\n",
       "      <td>79084.10</td>\n",
       "      <td>0</td>\n",
       "      <td>1</td>\n",
       "      <td>0</td>\n",
       "    </tr>\n",
       "  </tbody>\n",
       "</table>\n",
       "</div>"
      ],
      "text/plain": [
       "   CreditScore Geography  Gender  Age  Tenure    Balance  NumOfProducts  \\\n",
       "0          619    France  Female   42       2       0.00              1   \n",
       "1          608     Spain  Female   41       1   83807.86              1   \n",
       "2          502    France  Female   42       8  159660.80              3   \n",
       "3          699    France  Female   39       1       0.00              2   \n",
       "4          850     Spain  Female   43       2  125510.82              1   \n",
       "\n",
       "   HasCrCard  IsActiveMember  EstimatedSalary  Germany  Spain  Male  \n",
       "0          1               1        101348.88        0      0     0  \n",
       "1          0               1        112542.58        0      1     0  \n",
       "2          1               0        113931.57        0      0     0  \n",
       "3          0               0         93826.63        0      0     0  \n",
       "4          1               1         79084.10        0      1     0  "
      ]
     },
     "execution_count": 11,
     "metadata": {},
     "output_type": "execute_result"
    }
   ],
   "source": [
    "X.head()"
   ]
  },
  {
   "cell_type": "code",
   "execution_count": 12,
   "metadata": {},
   "outputs": [],
   "source": [
    "#dropping the categorical Geography and Gender"
   ]
  },
  {
   "cell_type": "code",
   "execution_count": 13,
   "metadata": {},
   "outputs": [],
   "source": [
    "X=X.drop(['Geography','Gender'],axis=1)\n"
   ]
  },
  {
   "cell_type": "code",
   "execution_count": 14,
   "metadata": {},
   "outputs": [
    {
     "data": {
      "text/html": [
       "<div>\n",
       "<style scoped>\n",
       "    .dataframe tbody tr th:only-of-type {\n",
       "        vertical-align: middle;\n",
       "    }\n",
       "\n",
       "    .dataframe tbody tr th {\n",
       "        vertical-align: top;\n",
       "    }\n",
       "\n",
       "    .dataframe thead th {\n",
       "        text-align: right;\n",
       "    }\n",
       "</style>\n",
       "<table border=\"1\" class=\"dataframe\">\n",
       "  <thead>\n",
       "    <tr style=\"text-align: right;\">\n",
       "      <th></th>\n",
       "      <th>CreditScore</th>\n",
       "      <th>Age</th>\n",
       "      <th>Tenure</th>\n",
       "      <th>Balance</th>\n",
       "      <th>NumOfProducts</th>\n",
       "      <th>HasCrCard</th>\n",
       "      <th>IsActiveMember</th>\n",
       "      <th>EstimatedSalary</th>\n",
       "      <th>Germany</th>\n",
       "      <th>Spain</th>\n",
       "      <th>Male</th>\n",
       "    </tr>\n",
       "  </thead>\n",
       "  <tbody>\n",
       "    <tr>\n",
       "      <th>0</th>\n",
       "      <td>619</td>\n",
       "      <td>42</td>\n",
       "      <td>2</td>\n",
       "      <td>0.00</td>\n",
       "      <td>1</td>\n",
       "      <td>1</td>\n",
       "      <td>1</td>\n",
       "      <td>101348.88</td>\n",
       "      <td>0</td>\n",
       "      <td>0</td>\n",
       "      <td>0</td>\n",
       "    </tr>\n",
       "    <tr>\n",
       "      <th>1</th>\n",
       "      <td>608</td>\n",
       "      <td>41</td>\n",
       "      <td>1</td>\n",
       "      <td>83807.86</td>\n",
       "      <td>1</td>\n",
       "      <td>0</td>\n",
       "      <td>1</td>\n",
       "      <td>112542.58</td>\n",
       "      <td>0</td>\n",
       "      <td>1</td>\n",
       "      <td>0</td>\n",
       "    </tr>\n",
       "    <tr>\n",
       "      <th>2</th>\n",
       "      <td>502</td>\n",
       "      <td>42</td>\n",
       "      <td>8</td>\n",
       "      <td>159660.80</td>\n",
       "      <td>3</td>\n",
       "      <td>1</td>\n",
       "      <td>0</td>\n",
       "      <td>113931.57</td>\n",
       "      <td>0</td>\n",
       "      <td>0</td>\n",
       "      <td>0</td>\n",
       "    </tr>\n",
       "    <tr>\n",
       "      <th>3</th>\n",
       "      <td>699</td>\n",
       "      <td>39</td>\n",
       "      <td>1</td>\n",
       "      <td>0.00</td>\n",
       "      <td>2</td>\n",
       "      <td>0</td>\n",
       "      <td>0</td>\n",
       "      <td>93826.63</td>\n",
       "      <td>0</td>\n",
       "      <td>0</td>\n",
       "      <td>0</td>\n",
       "    </tr>\n",
       "    <tr>\n",
       "      <th>4</th>\n",
       "      <td>850</td>\n",
       "      <td>43</td>\n",
       "      <td>2</td>\n",
       "      <td>125510.82</td>\n",
       "      <td>1</td>\n",
       "      <td>1</td>\n",
       "      <td>1</td>\n",
       "      <td>79084.10</td>\n",
       "      <td>0</td>\n",
       "      <td>1</td>\n",
       "      <td>0</td>\n",
       "    </tr>\n",
       "  </tbody>\n",
       "</table>\n",
       "</div>"
      ],
      "text/plain": [
       "   CreditScore  Age  Tenure    Balance  NumOfProducts  HasCrCard  \\\n",
       "0          619   42       2       0.00              1          1   \n",
       "1          608   41       1   83807.86              1          0   \n",
       "2          502   42       8  159660.80              3          1   \n",
       "3          699   39       1       0.00              2          0   \n",
       "4          850   43       2  125510.82              1          1   \n",
       "\n",
       "   IsActiveMember  EstimatedSalary  Germany  Spain  Male  \n",
       "0               1        101348.88        0      0     0  \n",
       "1               1        112542.58        0      1     0  \n",
       "2               0        113931.57        0      0     0  \n",
       "3               0         93826.63        0      0     0  \n",
       "4               1         79084.10        0      1     0  "
      ]
     },
     "execution_count": 14,
     "metadata": {},
     "output_type": "execute_result"
    }
   ],
   "source": [
    "X.head()"
   ]
  },
  {
   "cell_type": "code",
   "execution_count": 15,
   "metadata": {},
   "outputs": [],
   "source": [
    "from sklearn.model_selection import train_test_split\n",
    "X_train,X_test,y_train,y_test=train_test_split(X,y,test_size=0.2,random_state=0)"
   ]
  },
  {
   "cell_type": "code",
   "execution_count": 16,
   "metadata": {},
   "outputs": [],
   "source": [
    "#Feature_scaling"
   ]
  },
  {
   "cell_type": "code",
   "execution_count": 17,
   "metadata": {},
   "outputs": [],
   "source": [
    "from sklearn.preprocessing import StandardScaler\n",
    "scalar= StandardScaler()\n",
    "X_train = scalar.fit_transform(X_train)\n",
    "X_test =scalar.fit_transform(X_test)"
   ]
  },
  {
   "cell_type": "code",
   "execution_count": null,
   "metadata": {},
   "outputs": [],
   "source": [
    "#######################################################################################################################"
   ]
  },
  {
   "cell_type": "code",
   "execution_count": 18,
   "metadata": {},
   "outputs": [
    {
     "name": "stderr",
     "output_type": "stream",
     "text": [
      "Using TensorFlow backend.\n"
     ]
    }
   ],
   "source": [
    "import keras\n",
    "from keras.models import Sequential\n",
    "from keras.layers import Dense \n",
    "from keras.layers import LeakyReLU,PReLU,ELU\n",
    "from keras.layers import Dropout"
   ]
  },
  {
   "cell_type": "code",
   "execution_count": 20,
   "metadata": {},
   "outputs": [],
   "source": [
    "#Initialising ANN\n",
    "classifier =Sequential()"
   ]
  },
  {
   "cell_type": "code",
   "execution_count": null,
   "metadata": {},
   "outputs": [],
   "source": [
    "#Adding the input layer and first hidden layer"
   ]
  },
  {
   "cell_type": "code",
   "execution_count": 24,
   "metadata": {},
   "outputs": [],
   "source": [
    "classifier.add(Dense(units=6,kernel_initializer='he_uniform',activation='relu',input_dim=11))\n",
    "#classifier.add(Dropout(0.3))  if needed.\n",
    "#it can be also written as \n",
    "# classifier.add(Dense(output_dim=6,init='he_uniform',activation='relu',input_dim=11))"
   ]
  },
  {
   "cell_type": "code",
   "execution_count": 25,
   "metadata": {},
   "outputs": [],
   "source": [
    "#Adding the second hidden layer\n",
    "classifier.add(Dense(units=6,kernel_initializer='he_uniform',activation='relu'))\n",
    "#classifier.add(Dropout(0.3)) if needed"
   ]
  },
  {
   "cell_type": "code",
   "execution_count": 27,
   "metadata": {},
   "outputs": [],
   "source": [
    "#Adding output layer\n",
    "classifier.add(Dense(units=1,kernel_initializer='glorot_uniform',activation='sigmoid'))"
   ]
  },
  {
   "cell_type": "code",
   "execution_count": null,
   "metadata": {},
   "outputs": [],
   "source": []
  },
  {
   "cell_type": "code",
   "execution_count": 34,
   "metadata": {},
   "outputs": [],
   "source": [
    "#compiling ANN\n",
    "classifier.compile(optimizer='adam',loss='binary_crossentropy',metrics=['accuracy'])"
   ]
  },
  {
   "cell_type": "code",
   "execution_count": 35,
   "metadata": {},
   "outputs": [
    {
     "name": "stderr",
     "output_type": "stream",
     "text": [
      "W0311 20:15:05.536657  9132 deprecation_wrapper.py:119] From C:\\ProgramData\\Anaconda3\\lib\\site-packages\\keras\\backend\\tensorflow_backend.py:422: The name tf.global_variables is deprecated. Please use tf.compat.v1.global_variables instead.\n",
      "\n"
     ]
    },
    {
     "name": "stdout",
     "output_type": "stream",
     "text": [
      "Train on 5359 samples, validate on 2641 samples\n",
      "Epoch 1/100\n",
      "5359/5359 [==============================] - 3s 555us/step - loss: 0.5976 - accuracy: 0.7378 - val_loss: 0.4926 - val_accuracy: 0.7955\n",
      "Epoch 2/100\n",
      "5359/5359 [==============================] - 1s 205us/step - loss: 0.4765 - accuracy: 0.7962 - val_loss: 0.4691 - val_accuracy: 0.7955\n",
      "Epoch 3/100\n",
      "5359/5359 [==============================] - 1s 203us/step - loss: 0.4537 - accuracy: 0.7962 - val_loss: 0.4542 - val_accuracy: 0.7955\n",
      "Epoch 4/100\n",
      "5359/5359 [==============================] - 1s 215us/step - loss: 0.4429 - accuracy: 0.7962 - val_loss: 0.4500 - val_accuracy: 0.7955\n",
      "Epoch 5/100\n",
      "5359/5359 [==============================] - 1s 216us/step - loss: 0.4364 - accuracy: 0.7962 - val_loss: 0.4471 - val_accuracy: 0.7955\n",
      "Epoch 6/100\n",
      "5359/5359 [==============================] - 1s 209us/step - loss: 0.4317 - accuracy: 0.7962 - val_loss: 0.4447 - val_accuracy: 0.7955\n",
      "Epoch 7/100\n",
      "5359/5359 [==============================] - 1s 206us/step - loss: 0.4280 - accuracy: 0.7962 - val_loss: 0.4412 - val_accuracy: 0.7955\n",
      "Epoch 8/100\n",
      "5359/5359 [==============================] - 1s 203us/step - loss: 0.4219 - accuracy: 0.7962 - val_loss: 0.4379 - val_accuracy: 0.7955\n",
      "Epoch 9/100\n",
      "5359/5359 [==============================] - 1s 205us/step - loss: 0.4168 - accuracy: 0.8044 - val_loss: 0.4320 - val_accuracy: 0.8092\n",
      "Epoch 10/100\n",
      "5359/5359 [==============================] - 1s 215us/step - loss: 0.4114 - accuracy: 0.8244 - val_loss: 0.4264 - val_accuracy: 0.8114\n",
      "Epoch 11/100\n",
      "5359/5359 [==============================] - 1s 209us/step - loss: 0.4046 - accuracy: 0.8246 - val_loss: 0.4209 - val_accuracy: 0.8156\n",
      "Epoch 12/100\n",
      "5359/5359 [==============================] - 1s 210us/step - loss: 0.3969 - accuracy: 0.8311 - val_loss: 0.4184 - val_accuracy: 0.8201\n",
      "Epoch 13/100\n",
      "5359/5359 [==============================] - 1s 203us/step - loss: 0.3916 - accuracy: 0.8319 - val_loss: 0.4113 - val_accuracy: 0.8171\n",
      "Epoch 14/100\n",
      "5359/5359 [==============================] - 1s 206us/step - loss: 0.3848 - accuracy: 0.8377 - val_loss: 0.4041 - val_accuracy: 0.8228\n",
      "Epoch 15/100\n",
      "5359/5359 [==============================] - 1s 232us/step - loss: 0.3793 - accuracy: 0.8425 - val_loss: 0.3990 - val_accuracy: 0.8258\n",
      "Epoch 16/100\n",
      "5359/5359 [==============================] - 1s 209us/step - loss: 0.3741 - accuracy: 0.8468 - val_loss: 0.3964 - val_accuracy: 0.8304\n",
      "Epoch 17/100\n",
      "5359/5359 [==============================] - 1s 206us/step - loss: 0.3698 - accuracy: 0.8477 - val_loss: 0.3929 - val_accuracy: 0.8300\n",
      "Epoch 18/100\n",
      "5359/5359 [==============================] - 1s 219us/step - loss: 0.3658 - accuracy: 0.8511 - val_loss: 0.3922 - val_accuracy: 0.8292\n",
      "Epoch 19/100\n",
      "5359/5359 [==============================] - 1s 232us/step - loss: 0.3624 - accuracy: 0.8543 - val_loss: 0.3869 - val_accuracy: 0.8345\n",
      "Epoch 20/100\n",
      "5359/5359 [==============================] - 1s 224us/step - loss: 0.3601 - accuracy: 0.8533 - val_loss: 0.3849 - val_accuracy: 0.8413\n",
      "Epoch 21/100\n",
      "5359/5359 [==============================] - 1s 214us/step - loss: 0.3578 - accuracy: 0.8541 - val_loss: 0.3828 - val_accuracy: 0.8459\n",
      "Epoch 22/100\n",
      "5359/5359 [==============================] - 1s 206us/step - loss: 0.3560 - accuracy: 0.8543 - val_loss: 0.3810 - val_accuracy: 0.8474\n",
      "Epoch 23/100\n",
      "5359/5359 [==============================] - 1s 209us/step - loss: 0.3549 - accuracy: 0.8571 - val_loss: 0.3798 - val_accuracy: 0.8489\n",
      "Epoch 24/100\n",
      "5359/5359 [==============================] - 1s 209us/step - loss: 0.3530 - accuracy: 0.8552 - val_loss: 0.3798 - val_accuracy: 0.8474\n",
      "Epoch 25/100\n",
      "5359/5359 [==============================] - 1s 213us/step - loss: 0.3518 - accuracy: 0.8571 - val_loss: 0.3778 - val_accuracy: 0.8459\n",
      "Epoch 26/100\n",
      "5359/5359 [==============================] - 1s 209us/step - loss: 0.3509 - accuracy: 0.8597 - val_loss: 0.3768 - val_accuracy: 0.8489\n",
      "Epoch 27/100\n",
      "5359/5359 [==============================] - 1s 207us/step - loss: 0.3486 - accuracy: 0.8574 - val_loss: 0.3774 - val_accuracy: 0.8474\n",
      "Epoch 28/100\n",
      "5359/5359 [==============================] - 1s 212us/step - loss: 0.3475 - accuracy: 0.8589 - val_loss: 0.3782 - val_accuracy: 0.8417\n",
      "Epoch 29/100\n",
      "5359/5359 [==============================] - 1s 206us/step - loss: 0.3470 - accuracy: 0.8599 - val_loss: 0.3743 - val_accuracy: 0.8425\n",
      "Epoch 30/100\n",
      "5359/5359 [==============================] - 1s 206us/step - loss: 0.3452 - accuracy: 0.8574 - val_loss: 0.3699 - val_accuracy: 0.8485\n",
      "Epoch 31/100\n",
      "5359/5359 [==============================] - 1s 209us/step - loss: 0.3451 - accuracy: 0.8595 - val_loss: 0.3695 - val_accuracy: 0.8482\n",
      "Epoch 32/100\n",
      "5359/5359 [==============================] - 1s 211us/step - loss: 0.3433 - accuracy: 0.8586 - val_loss: 0.3711 - val_accuracy: 0.8451\n",
      "Epoch 33/100\n",
      "5359/5359 [==============================] - 1s 232us/step - loss: 0.3431 - accuracy: 0.8610 - val_loss: 0.3667 - val_accuracy: 0.8535\n",
      "Epoch 34/100\n",
      "5359/5359 [==============================] - 1s 216us/step - loss: 0.3410 - accuracy: 0.8636 - val_loss: 0.3664 - val_accuracy: 0.8482\n",
      "Epoch 35/100\n",
      "5359/5359 [==============================] - 1s 206us/step - loss: 0.3413 - accuracy: 0.8602 - val_loss: 0.3697 - val_accuracy: 0.8523\n",
      "Epoch 36/100\n",
      "5359/5359 [==============================] - 1s 211us/step - loss: 0.3407 - accuracy: 0.8610 - val_loss: 0.3683 - val_accuracy: 0.8485\n",
      "Epoch 37/100\n",
      "5359/5359 [==============================] - 1s 214us/step - loss: 0.3405 - accuracy: 0.8595 - val_loss: 0.3671 - val_accuracy: 0.8489\n",
      "Epoch 38/100\n",
      "5359/5359 [==============================] - 1s 233us/step - loss: 0.3396 - accuracy: 0.8606 - val_loss: 0.3620 - val_accuracy: 0.8550\n",
      "Epoch 39/100\n",
      "5359/5359 [==============================] - 1s 246us/step - loss: 0.3383 - accuracy: 0.8589 - val_loss: 0.3641 - val_accuracy: 0.8542\n",
      "Epoch 40/100\n",
      "5359/5359 [==============================] - 1s 215us/step - loss: 0.3372 - accuracy: 0.8608 - val_loss: 0.3628 - val_accuracy: 0.8538\n",
      "Epoch 41/100\n",
      "5359/5359 [==============================] - 1s 210us/step - loss: 0.3364 - accuracy: 0.8623 - val_loss: 0.3620 - val_accuracy: 0.8554\n",
      "Epoch 42/100\n",
      "5359/5359 [==============================] - 1s 211us/step - loss: 0.3364 - accuracy: 0.8617 - val_loss: 0.3648 - val_accuracy: 0.8523\n",
      "Epoch 43/100\n",
      "5359/5359 [==============================] - 1s 215us/step - loss: 0.3362 - accuracy: 0.8621 - val_loss: 0.3628 - val_accuracy: 0.8542\n",
      "Epoch 44/100\n",
      "5359/5359 [==============================] - 1s 214us/step - loss: 0.3357 - accuracy: 0.8630 - val_loss: 0.3606 - val_accuracy: 0.8546\n",
      "Epoch 45/100\n",
      "5359/5359 [==============================] - 1s 210us/step - loss: 0.3358 - accuracy: 0.8623 - val_loss: 0.3594 - val_accuracy: 0.8561\n",
      "Epoch 46/100\n",
      "5359/5359 [==============================] - 1s 237us/step - loss: 0.3351 - accuracy: 0.8660 - val_loss: 0.3595 - val_accuracy: 0.8531\n",
      "Epoch 47/100\n",
      "5359/5359 [==============================] - 1s 270us/step - loss: 0.3352 - accuracy: 0.8638 - val_loss: 0.3608 - val_accuracy: 0.8527\n",
      "Epoch 48/100\n",
      "5359/5359 [==============================] - 1s 215us/step - loss: 0.3342 - accuracy: 0.8625 - val_loss: 0.3615 - val_accuracy: 0.8546\n",
      "Epoch 49/100\n",
      "5359/5359 [==============================] - 1s 210us/step - loss: 0.3343 - accuracy: 0.8621 - val_loss: 0.3653 - val_accuracy: 0.8493\n",
      "Epoch 50/100\n",
      "5359/5359 [==============================] - 1s 211us/step - loss: 0.3333 - accuracy: 0.8612 - val_loss: 0.3599 - val_accuracy: 0.8550\n",
      "Epoch 51/100\n",
      "5359/5359 [==============================] - 1s 212us/step - loss: 0.3335 - accuracy: 0.8634 - val_loss: 0.3606 - val_accuracy: 0.8550\n",
      "Epoch 52/100\n",
      "5359/5359 [==============================] - 1s 211us/step - loss: 0.3345 - accuracy: 0.8645 - val_loss: 0.3583 - val_accuracy: 0.8554\n",
      "Epoch 53/100\n",
      "5359/5359 [==============================] - 1s 213us/step - loss: 0.3323 - accuracy: 0.8632 - val_loss: 0.3595 - val_accuracy: 0.8569\n",
      "Epoch 54/100\n",
      "5359/5359 [==============================] - 1s 206us/step - loss: 0.3330 - accuracy: 0.8636 - val_loss: 0.3560 - val_accuracy: 0.8561\n",
      "Epoch 55/100\n",
      "5359/5359 [==============================] - 1s 205us/step - loss: 0.3316 - accuracy: 0.8640 - val_loss: 0.3588 - val_accuracy: 0.8538\n",
      "Epoch 56/100\n",
      "5359/5359 [==============================] - 1s 205us/step - loss: 0.3318 - accuracy: 0.8651 - val_loss: 0.3606 - val_accuracy: 0.8538\n",
      "Epoch 57/100\n",
      "5359/5359 [==============================] - 1s 203us/step - loss: 0.3322 - accuracy: 0.8662 - val_loss: 0.3601 - val_accuracy: 0.8554\n",
      "Epoch 58/100\n",
      "5359/5359 [==============================] - 1s 206us/step - loss: 0.3330 - accuracy: 0.8625 - val_loss: 0.3612 - val_accuracy: 0.8504\n",
      "Epoch 59/100\n",
      "5359/5359 [==============================] - 1s 209us/step - loss: 0.3320 - accuracy: 0.8636 - val_loss: 0.3608 - val_accuracy: 0.8535\n",
      "Epoch 60/100\n",
      "5359/5359 [==============================] - 1s 227us/step - loss: 0.3313 - accuracy: 0.8628 - val_loss: 0.3581 - val_accuracy: 0.8573\n",
      "Epoch 61/100\n",
      "5359/5359 [==============================] - 1s 210us/step - loss: 0.3307 - accuracy: 0.8662 - val_loss: 0.3582 - val_accuracy: 0.8580\n",
      "Epoch 62/100\n",
      "5359/5359 [==============================] - 1s 214us/step - loss: 0.3312 - accuracy: 0.8655 - val_loss: 0.3577 - val_accuracy: 0.8554\n",
      "Epoch 63/100\n",
      "5359/5359 [==============================] - 1s 209us/step - loss: 0.3306 - accuracy: 0.8642 - val_loss: 0.3590 - val_accuracy: 0.8550\n",
      "Epoch 64/100\n",
      "5359/5359 [==============================] - 1s 206us/step - loss: 0.3312 - accuracy: 0.8647 - val_loss: 0.3576 - val_accuracy: 0.8554\n",
      "Epoch 65/100\n",
      "5359/5359 [==============================] - 1s 215us/step - loss: 0.3304 - accuracy: 0.8655 - val_loss: 0.3588 - val_accuracy: 0.8573\n",
      "Epoch 66/100\n",
      "5359/5359 [==============================] - 1s 209us/step - loss: 0.3289 - accuracy: 0.8671 - val_loss: 0.3631 - val_accuracy: 0.8501\n",
      "Epoch 67/100\n",
      "5359/5359 [==============================] - 1s 208us/step - loss: 0.3302 - accuracy: 0.8632 - val_loss: 0.3575 - val_accuracy: 0.8542\n",
      "Epoch 68/100\n",
      "5359/5359 [==============================] - 1s 209us/step - loss: 0.3297 - accuracy: 0.8649 - val_loss: 0.3606 - val_accuracy: 0.8531\n",
      "Epoch 69/100\n",
      "5359/5359 [==============================] - 1s 207us/step - loss: 0.3296 - accuracy: 0.8662 - val_loss: 0.3630 - val_accuracy: 0.8531\n",
      "Epoch 70/100\n",
      "5359/5359 [==============================] - 1s 207us/step - loss: 0.3297 - accuracy: 0.8660 - val_loss: 0.3593 - val_accuracy: 0.8573\n",
      "Epoch 71/100\n",
      "5359/5359 [==============================] - 1s 208us/step - loss: 0.3303 - accuracy: 0.8647 - val_loss: 0.3602 - val_accuracy: 0.8489\n",
      "Epoch 72/100\n",
      "5359/5359 [==============================] - 1s 219us/step - loss: 0.3297 - accuracy: 0.8647 - val_loss: 0.3618 - val_accuracy: 0.8501\n",
      "Epoch 73/100\n",
      "5359/5359 [==============================] - 1s 209us/step - loss: 0.3272 - accuracy: 0.8683 - val_loss: 0.3599 - val_accuracy: 0.8516\n",
      "Epoch 74/100\n",
      "5359/5359 [==============================] - 1s 221us/step - loss: 0.3288 - accuracy: 0.8658 - val_loss: 0.3590 - val_accuracy: 0.8523\n",
      "Epoch 75/100\n",
      "5359/5359 [==============================] - 1s 216us/step - loss: 0.3279 - accuracy: 0.8666 - val_loss: 0.3609 - val_accuracy: 0.8508\n",
      "Epoch 76/100\n",
      "5359/5359 [==============================] - 1s 214us/step - loss: 0.3278 - accuracy: 0.8642 - val_loss: 0.3656 - val_accuracy: 0.8504\n",
      "Epoch 77/100\n",
      "5359/5359 [==============================] - 1s 210us/step - loss: 0.3283 - accuracy: 0.8656 - val_loss: 0.3587 - val_accuracy: 0.8535\n",
      "Epoch 78/100\n",
      "5359/5359 [==============================] - 1s 209us/step - loss: 0.3273 - accuracy: 0.8653 - val_loss: 0.3595 - val_accuracy: 0.8538\n",
      "Epoch 79/100\n",
      "5359/5359 [==============================] - 1s 205us/step - loss: 0.3276 - accuracy: 0.8666 - val_loss: 0.3660 - val_accuracy: 0.8482\n",
      "Epoch 80/100\n",
      "5359/5359 [==============================] - 1s 208us/step - loss: 0.3267 - accuracy: 0.8681 - val_loss: 0.3635 - val_accuracy: 0.8485\n",
      "Epoch 81/100\n",
      "5359/5359 [==============================] - 1s 228us/step - loss: 0.3278 - accuracy: 0.8668 - val_loss: 0.3581 - val_accuracy: 0.8523\n",
      "Epoch 82/100\n",
      "5359/5359 [==============================] - 1s 208us/step - loss: 0.3265 - accuracy: 0.8664 - val_loss: 0.3598 - val_accuracy: 0.8557\n",
      "Epoch 83/100\n",
      "5359/5359 [==============================] - 1s 211us/step - loss: 0.3260 - accuracy: 0.8664 - val_loss: 0.3600 - val_accuracy: 0.8523\n",
      "Epoch 84/100\n",
      "5359/5359 [==============================] - 1s 210us/step - loss: 0.3268 - accuracy: 0.8671 - val_loss: 0.3583 - val_accuracy: 0.8565\n",
      "Epoch 85/100\n",
      "5359/5359 [==============================] - 1s 205us/step - loss: 0.3249 - accuracy: 0.8668 - val_loss: 0.3586 - val_accuracy: 0.8538\n",
      "Epoch 86/100\n",
      "5359/5359 [==============================] - 1s 208us/step - loss: 0.3258 - accuracy: 0.8658 - val_loss: 0.3594 - val_accuracy: 0.8501\n",
      "Epoch 87/100\n",
      "5359/5359 [==============================] - 1s 221us/step - loss: 0.3262 - accuracy: 0.8666 - val_loss: 0.3595 - val_accuracy: 0.8519\n",
      "Epoch 88/100\n",
      "5359/5359 [==============================] - 1s 244us/step - loss: 0.3262 - accuracy: 0.8675 - val_loss: 0.3581 - val_accuracy: 0.8550\n",
      "Epoch 89/100\n",
      "5359/5359 [==============================] - 1s 244us/step - loss: 0.3262 - accuracy: 0.8675 - val_loss: 0.3580 - val_accuracy: 0.8557\n",
      "Epoch 90/100\n",
      "5359/5359 [==============================] - 1s 221us/step - loss: 0.3247 - accuracy: 0.8658 - val_loss: 0.3614 - val_accuracy: 0.8523\n",
      "Epoch 91/100\n",
      "5359/5359 [==============================] - 1s 218us/step - loss: 0.3253 - accuracy: 0.8692 - val_loss: 0.3579 - val_accuracy: 0.8523\n",
      "Epoch 92/100\n",
      "5359/5359 [==============================] - 1s 216us/step - loss: 0.3250 - accuracy: 0.8670 - val_loss: 0.3619 - val_accuracy: 0.8501\n",
      "Epoch 93/100\n",
      "5359/5359 [==============================] - 1s 217us/step - loss: 0.3258 - accuracy: 0.8675 - val_loss: 0.3572 - val_accuracy: 0.8569\n",
      "Epoch 94/100\n",
      "5359/5359 [==============================] - 1s 212us/step - loss: 0.3252 - accuracy: 0.8671 - val_loss: 0.3573 - val_accuracy: 0.8557\n",
      "Epoch 95/100\n",
      "5359/5359 [==============================] - 1s 262us/step - loss: 0.3250 - accuracy: 0.8649 - val_loss: 0.3570 - val_accuracy: 0.8561\n",
      "Epoch 96/100\n",
      "5359/5359 [==============================] - 1s 248us/step - loss: 0.3244 - accuracy: 0.8679 - val_loss: 0.3606 - val_accuracy: 0.8538\n",
      "Epoch 97/100\n",
      "5359/5359 [==============================] - 1s 275us/step - loss: 0.3236 - accuracy: 0.8688 - val_loss: 0.3587 - val_accuracy: 0.8546\n",
      "Epoch 98/100\n",
      "5359/5359 [==============================] - 1s 252us/step - loss: 0.3252 - accuracy: 0.8681 - val_loss: 0.3567 - val_accuracy: 0.8576\n",
      "Epoch 99/100\n",
      "5359/5359 [==============================] - 1s 228us/step - loss: 0.3237 - accuracy: 0.8684 - val_loss: 0.3638 - val_accuracy: 0.8455\n",
      "Epoch 100/100\n",
      "5359/5359 [==============================] - 1s 215us/step - loss: 0.3241 - accuracy: 0.8681 - val_loss: 0.3584 - val_accuracy: 0.8501\n"
     ]
    }
   ],
   "source": [
    "#fitting the ANN to the training set\n",
    "model_history =classifier.fit(X_train,y_train,validation_split=0.33,batch_size=10,nb_epoch=100)"
   ]
  },
  {
   "cell_type": "code",
   "execution_count": null,
   "metadata": {},
   "outputs": [],
   "source": [
    "#######################################################################################################################"
   ]
  },
  {
   "cell_type": "code",
   "execution_count": 44,
   "metadata": {},
   "outputs": [],
   "source": [
    "#predicting the test result\n",
    "y_pred=classifier.predict(X_test)\n",
    "y_pred=(y_pred>0.5)"
   ]
  },
  {
   "cell_type": "code",
   "execution_count": 67,
   "metadata": {},
   "outputs": [],
   "source": [
    "#confusion matrix,accuracy,classification report\n",
    "from sklearn.metrics import confusion_matrix,accuracy_score\n",
    "cm =confusion_matrix(y_test,y_pred)\n",
    "accuracy=accuracy_score(y_pred,y_test)"
   ]
  },
  {
   "cell_type": "code",
   "execution_count": 68,
   "metadata": {},
   "outputs": [
    {
     "name": "stdout",
     "output_type": "stream",
     "text": [
      "[[1496   99]\n",
      " [ 198  207]]\n",
      "0.8515\n"
     ]
    }
   ],
   "source": [
    "print(cm)\n",
    "\n",
    "print(accuracy)"
   ]
  },
  {
   "cell_type": "code",
   "execution_count": null,
   "metadata": {},
   "outputs": [],
   "source": [
    "######################################################################################################################"
   ]
  },
  {
   "cell_type": "code",
   "execution_count": null,
   "metadata": {},
   "outputs": [],
   "source": [
    "#visualization"
   ]
  },
  {
   "cell_type": "code",
   "execution_count": 51,
   "metadata": {},
   "outputs": [
    {
     "name": "stdout",
     "output_type": "stream",
     "text": [
      "dict_keys(['val_loss', 'val_accuracy', 'loss', 'accuracy'])\n"
     ]
    }
   ],
   "source": [
    "#list all data in history\n",
    "print(model_history.history.keys())"
   ]
  },
  {
   "cell_type": "code",
   "execution_count": 64,
   "metadata": {},
   "outputs": [
    {
     "data": {
      "text/plain": [
       "<function matplotlib.pyplot.show(*args, **kw)>"
      ]
     },
     "execution_count": 64,
     "metadata": {},
     "output_type": "execute_result"
    },
    {
     "data": {
      "image/png": "[encoded data removed]",
      "text/plain": [
       "<Figure size 432x288 with 1 Axes>"
      ]
     },
     "metadata": {
      "needs_background": "light"
     },
     "output_type": "display_data"
    }
   ],
   "source": [
    "plt.plot(model_history.history['accuracy'])\n",
    "plt.plot(model_history.history['val_accuracy'])\n",
    "plt.title('model accuracy')\n",
    "plt.xlabel('epoch')\n",
    "plt.ylabel('accuracy')\n",
    "plt.legend(['train','test'])\n",
    "plt.show"
   ]
  },
  {
   "cell_type": "code",
   "execution_count": null,
   "metadata": {},
   "outputs": [],
   "source": []
  }
 ],
 "metadata": {
  "kernelspec": {
   "display_name": "Python 3",
   "language": "python",
   "name": "python3"
  },
  "language_info": {
   "codemirror_mode": {
    "name": "ipython",
    "version": 3
   },
   "file_extension": ".py",
   "mimetype": "text/x-python",
   "name": "python",
   "nbconvert_exporter": "python",
   "pygments_lexer": "ipython3",
   "version": "3.7.3"
  }
 },
 "nbformat": 4,
 "nbformat_minor": 2
}
